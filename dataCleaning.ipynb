{
 "cells": [
  {
   "cell_type": "code",
   "execution_count": 26,
   "id": "d8aa1f10-e71c-4698-b622-1cb0a27463e9",
   "metadata": {},
   "outputs": [
    {
     "name": "stdout",
     "output_type": "stream",
     "text": [
      "   assists  clean_sheets expected_assists expected_goals  \\\n",
      "0        0             0             0.00           0.00   \n",
      "1        0             0             0.00           0.00   \n",
      "2        0             0             0.00           0.00   \n",
      "3        0             0             0.00           0.00   \n",
      "4        0             0             0.00           0.00   \n",
      "\n",
      "  expected_goals_conceded  goals_conceded  goals_scored  minutes  \\\n",
      "0                    0.00               0             0        0   \n",
      "1                    0.00               0             0        0   \n",
      "2                    0.00               0             0        0   \n",
      "3                    0.15               0             0        5   \n",
      "4                    0.00               0             0        0   \n",
      "\n",
      "   opponent_team  own_goals  penalties_saved  red_cards  saves  starts  \\\n",
      "0             20          0                0          0      0       0   \n",
      "1              2          0                0          0      0       0   \n",
      "2              5          0                0          0      0       0   \n",
      "3             20          0                0          0      0       0   \n",
      "4              2          0                0          0      0       0   \n",
      "\n",
      "   team_a_score  team_h_score  total_points  was_home  yellow_cards playerId  \n",
      "0             0             2             0      True             0        1  \n",
      "1             2             0             0     False             0        1  \n",
      "2             1             1             0      True             0        1  \n",
      "3             0             2             0      True             1        2  \n",
      "4             2             0             0     False             0        2  \n"
     ]
    }
   ],
   "source": [
    "import pandas as pd\n",
    "import json\n",
    "\n",
    "def main():\n",
    "    with open(\"player_data.json\") as file:\n",
    "        data = json.load(file)\n",
    "\n",
    "    fixtureData = []\n",
    "    historyData = []\n",
    "\n",
    "    for playerId, playerInfo in data.items():\n",
    "        fixtures = playerInfo.get('fixtures', [])\n",
    "        history = playerInfo.get('history', [])\n",
    "\n",
    "        for record in fixtures:\n",
    "            record['playerId'] = playerId\n",
    "            fixtureData.append(record)\n",
    "\n",
    "        for record in history:\n",
    "            record['playerId'] = playerId\n",
    "            historyData.append(record)\n",
    "\n",
    "    fixturesDf = pd.DataFrame(fixtureData)\n",
    "    historyDf = pd.DataFrame(historyData)\n",
    "\n",
    "    fixturesDf.drop(['code', 'kickoff_time', 'provisional_start_time', 'finished', 'id', 'minutes', 'team_a_score', 'team_h_score'], axis = 1, inplace=True)\n",
    "    historyDf.drop(['transfers_balance', 'transfers_in', 'bonus', 'bps', 'creativity', 'expected_goal_involvements', \n",
    "                   'threat', 'transfers_out', 'selected', 'value', 'ict_index', 'influence', 'round', 'kickoff_time',\n",
    "                   'penalties_missed', 'element', 'fixture'], axis = 1, inplace=True)\n",
    "\n",
    "    print(historyDf.head())\n",
    "\n",
    "    historyDf.to_json('cleaned_history_data.json', orient = 'records', indent=4)\n",
    "    fixturesDf.to_json('cleaned_fixtures_data.json', orient = 'records', indent=4)\n",
    "\n",
    "\n",
    "main()"
   ]
  },
  {
   "cell_type": "code",
   "execution_count": null,
   "id": "6aa61841-597e-43df-b8a5-6028ee069f6c",
   "metadata": {},
   "outputs": [],
   "source": []
  }
 ],
 "metadata": {
  "kernelspec": {
   "display_name": "Python 3 (ipykernel)",
   "language": "python",
   "name": "python3"
  },
  "language_info": {
   "codemirror_mode": {
    "name": "ipython",
    "version": 3
   },
   "file_extension": ".py",
   "mimetype": "text/x-python",
   "name": "python",
   "nbconvert_exporter": "python",
   "pygments_lexer": "ipython3",
   "version": "3.12.4"
  }
 },
 "nbformat": 4,
 "nbformat_minor": 5
}
