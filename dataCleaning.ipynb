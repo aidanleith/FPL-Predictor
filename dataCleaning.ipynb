{
 "cells": [
  {
   "cell_type": "code",
   "execution_count": 4,
   "id": "d8aa1f10-e71c-4698-b622-1cb0a27463e9",
   "metadata": {},
   "outputs": [
    {
     "name": "stdout",
     "output_type": "stream",
     "text": [
      "   difficulty  event  event_name  is_home  team_a  team_h playerId\n",
      "0           4      4  Gameweek 4    False       1      18        1\n",
      "1           5      5  Gameweek 5    False       1      13        1\n",
      "2           2      6  Gameweek 6     True      11       1        1\n",
      "3           2      7  Gameweek 7     True      17       1        1\n",
      "4           2      8  Gameweek 8    False       1       3        1\n"
     ]
    }
   ],
   "source": [
    "#Aidan Leith\n",
    "#9/11/2024\n",
    "#Data Cleaning File\n",
    "\n",
    "import pandas as pd\n",
    "import json\n",
    "\n",
    "#drop unnecessary data, avoid multicollinearity\n",
    "def cleanData(obj1, obj2):\n",
    "    obj1.drop(['code', 'kickoff_time', 'provisional_start_time', 'finished', 'id', 'minutes', 'team_a_score', 'team_h_score'], axis = 1, inplace=True)\n",
    "    obj2.drop(['transfers_balance', 'transfers_in', 'bonus', 'bps', 'creativity', 'expected_goal_involvements', \n",
    "                   'threat', 'transfers_out', 'selected', 'value', 'ict_index', 'influence', 'round', 'kickoff_time',\n",
    "                   'penalties_missed', 'element', 'fixture', 'expected_assists', 'expected_goals'], axis = 1, inplace=True)\n",
    "\n",
    "def main():\n",
    "    with open(\"player_data.json\") as file:\n",
    "        data = json.load(file)\n",
    "\n",
    "    fixtureData = []\n",
    "    historyData = []\n",
    "\n",
    "    for playerId, playerInfo in data.items():\n",
    "        fixtures = playerInfo.get('fixtures', [])\n",
    "        history = playerInfo.get('history', [])\n",
    "\n",
    "        for record in fixtures:\n",
    "            record['playerId'] = playerId\n",
    "            fixtureData.append(record)\n",
    "\n",
    "        for record in history:\n",
    "            record['playerId'] = playerId\n",
    "            historyData.append(record)\n",
    "\n",
    "    fixturesDf = pd.DataFrame(fixtureData)\n",
    "    historyDf = pd.DataFrame(historyData)\n",
    "\n",
    "    cleanData(fixturesDf, historyDf)\n",
    "\n",
    "    historyDf.to_json('cleaned_history_data.json', orient = 'records', indent=4)\n",
    "    fixturesDf.to_json('cleaned_fixtures_data.json', orient = 'records', indent=4)\n",
    "\n",
    "\n",
    "main()"
   ]
  },
  {
   "cell_type": "code",
   "execution_count": null,
   "id": "6aa61841-597e-43df-b8a5-6028ee069f6c",
   "metadata": {},
   "outputs": [],
   "source": []
  }
 ],
 "metadata": {
  "kernelspec": {
   "display_name": "Python 3 (ipykernel)",
   "language": "python",
   "name": "python3"
  },
  "language_info": {
   "codemirror_mode": {
    "name": "ipython",
    "version": 3
   },
   "file_extension": ".py",
   "mimetype": "text/x-python",
   "name": "python",
   "nbconvert_exporter": "python",
   "pygments_lexer": "ipython3",
   "version": "3.12.4"
  }
 },
 "nbformat": 4,
 "nbformat_minor": 5
}
